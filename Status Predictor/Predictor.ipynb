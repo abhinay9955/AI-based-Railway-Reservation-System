{
 "cells": [
  {
   "cell_type": "code",
   "execution_count": 14,
   "metadata": {},
   "outputs": [],
   "source": [
    "import re\n",
    "import joblib # install \n",
    "import lightgbm as lgm # install\n",
    "import numpy as np # install\n",
    "from sklearn.preprocessing import StandardScaler # install\n",
    "from datetime import datetime"
   ]
  },
  {
   "cell_type": "code",
   "execution_count": 15,
   "metadata": {},
   "outputs": [],
   "source": [
    "def predict_probability(train_days, train_type, booking_date, booking_hour, journey_date, journey_hour, ticket_class, waiting_list_category, waiting_list_number):\n",
    "    train_metric_type = [0, 0, 0, 0]\n",
    "    if train_type > 0:\n",
    "        train_metric_type[train_type - 1] = 1\n",
    "    \n",
    "    date_item_booking = list(map(int, booking_date.split('-')))\n",
    "    date_item_journey = list(map(int, journey_date.split('-')))\n",
    "    \n",
    "    booking_year = date_item_booking[0]\n",
    "    journey_year = date_item_journey[0]\n",
    "    \n",
    "    booking_month = date_item_booking[1]\n",
    "    journey_month = date_item_journey[1]\n",
    "    \n",
    "    booking_day = date_item_booking[2]\n",
    "    journey_day = date_item_journey[2]\n",
    "    \n",
    "    booking_datetime = datetime(booking_year, booking_month, booking_day, hour=booking_hour)\n",
    "    journey_datetime = datetime(journey_year, journey_month, journey_day, hour=journey_hour)\n",
    "    \n",
    "    time_difference_1 = (journey_datetime - booking_datetime).total_seconds() // 3600\n",
    "    assert time_difference_1 >= 0\n",
    "    time_difference_2 = 0\n",
    "    \n",
    "    journey_month_type = [0] * 11\n",
    "    if journey_month > 1:\n",
    "        journey_month_type[journey_month - 2] = 1\n",
    "    \n",
    "    ticket_class_type = [0, 0, 0]\n",
    "    if ticket_class == 'SL':\n",
    "        ticket_class_type[2] = 1\n",
    "    if ticket_class == '2A':\n",
    "        ticket_class_type[0] = 1\n",
    "    if ticket_class == '3A':\n",
    "        ticket_class_type[1] = 1\n",
    "    \n",
    "    waiting_list_type = [0, 0, 0, 0]\n",
    "    if waiting_list_category == 'RL':\n",
    "        waiting_list_type[2] = 1\n",
    "    if waiting_list_category == 'TQ':\n",
    "        waiting_list_type[3] = 1\n",
    "    if waiting_list_category == 'PQ':\n",
    "        waiting_list_type[0] = 1\n",
    "    if waiting_list_category == 'RA':\n",
    "        waiting_list_type[1] = 1\n",
    "\n",
    "    row = []\n",
    "    row.append(train_days)\n",
    "    row.append(time_difference_1)\n",
    "    row.append(0)\n",
    "    row.append(waiting_list_number)\n",
    "    row.extend(ticket_class_type)\n",
    "    row.extend(waiting_list_type)\n",
    "    row.extend(journey_month_type)\n",
    "    row.extend(train_metric_type)\n",
    "   \n",
    "    print(train_days, train_type, time_difference_1, time_difference_2, waiting_list_number, journey_month)\n",
    "    X = np.array([row])\n",
    "    \n",
    "    model = joblib.load('lgbtqmodel.pkl')\n",
    "    scalar = joblib.load('scaler_file.pkl')\n",
    "    X_sc = scalar.transform(X)\n",
    "    \n",
    "    print(X, X_sc)\n",
    "    return model.predict(X_sc)[0]\n",
    "    "
   ]
  },
  {
   "cell_type": "code",
   "execution_count": 16,
   "metadata": {},
   "outputs": [],
   "source": [
    "def predict(train_number, booking_date, booking_time, journey_date, journey_time, ticket_class, waiting_list):\n",
    "    train_dict = joblib.load('train_dictionary.pkl')\n",
    "    \n",
    "    assert train_number in train_dict\n",
    "    train_days = train_dict[train_number]['days']\n",
    "    train_type = train_dict[train_number]['type']\n",
    "    \n",
    "    date_pattern = re.compile('[0-9][0-9][0-9][0-9]-[0-9][0-9]-[0-9][0-9]')\n",
    "    assert len(date_pattern.findall(booking_date)[0]) == len(booking_date)\n",
    "    assert len(date_pattern.findall(journey_date)[0]) == len(journey_date)\n",
    "    \n",
    "    time_pattern = re.compile('[0-9][0-9]:[0-9][0-9]')\n",
    "    assert len(time_pattern.findall(booking_time)[0]) == len(booking_time)\n",
    "    assert len(time_pattern.findall(journey_time)[0]) == len(journey_time)\n",
    "    booking_hour = int(booking_time[0:2])\n",
    "    journey_hour = int(journey_time[0:2])\n",
    "    \n",
    "    assert ticket_class in ['1A', '2A', '3A', 'SL']\n",
    "    \n",
    "    waiting_list_type = waiting_list[0:2]\n",
    "    assert waiting_list_type in ['GN', 'RL', 'TQ', 'RA', 'PQ']\n",
    "    waiting_number = int(waiting_list.split('/')[1][2:])\n",
    "    \n",
    "    return predict_probability(train_days, train_type, booking_date, booking_hour, journey_date, journey_hour, ticket_class, waiting_list_type, waiting_number)"
   ]
  },
  {
   "cell_type": "code",
   "execution_count": 17,
   "metadata": {},
   "outputs": [
    {
     "name": "stdout",
     "output_type": "stream",
     "text": [
      "7 0 295.0 0 10 2\n",
      "[[  7. 295.   0.  10.   0.   0.   0.   0.   0.   0.   0.   1.   0.   0.\n",
      "    0.   0.   0.   0.   0.   0.   0.   0.   0.   0.   0.   0.]] [[ 0.64485386  0.07587647 -0.21180788 -0.23296468 -0.33738446 -0.64500278\n",
      "  -1.21365071 -0.28081172 -0.68815409 -0.41772555 -0.21837152  3.99081653\n",
      "  -0.25491182 -0.28978221 -0.31197886 -0.3100663  -0.23806606 -0.2409689\n",
      "  -0.24895608 -0.35695427 -0.39048749 -0.39783873 -0.39372463 -0.30514076\n",
      "  -0.55406327 -0.51439234]]\n"
     ]
    },
    {
     "name": "stderr",
     "output_type": "stream",
     "text": [
      "/home/ayush/.local/lib/python3.7/site-packages/sklearn/base.py:318: UserWarning: Trying to unpickle estimator StandardScaler from version 0.20.3 when using version 0.22.1. This might lead to breaking code or invalid results. Use at your own risk.\n",
      "  UserWarning)\n"
     ]
    },
    {
     "data": {
      "text/plain": [
       "0.9276537543658393"
      ]
     },
     "execution_count": 17,
     "metadata": {},
     "output_type": "execute_result"
    }
   ],
   "source": [
    "predict(12837, '2020-01-24', '15:51', '2020-02-05', '22:15', '1A', 'GNWL30/WL10')"
   ]
  },
  {
   "cell_type": "code",
   "execution_count": 18,
   "metadata": {},
   "outputs": [],
   "source": [
    "# import pandas as pd\n",
    "# train_table = pd.read_csv('trains_metric.csv').values\n",
    "\n",
    "# train_dictionary = {}\n",
    "# for i in range(np.size(train_table, axis=0)):\n",
    "#     train_dictionary[int(train_table[i, 0])] = {'days': int(train_table[i, 1]), 'type': int(train_table[i, 2])}\n",
    "    \n",
    "# joblib.dump(train_dictionary, 'train_dictionary.pkl')"
   ]
  },
  {
   "cell_type": "code",
   "execution_count": 19,
   "metadata": {},
   "outputs": [
    {
     "name": "stdout",
     "output_type": "stream",
     "text": [
      "7 0 295.0 0 10 2\n",
      "[[  7. 295.   0.  10.   0.   0.   0.   0.   0.   0.   0.   1.   0.   0.\n",
      "    0.   0.   0.   0.   0.   0.   0.   0.   0.   0.   0.   0.]] [[ 0.64485386  0.07587647 -0.21180788 -0.23296468 -0.33738446 -0.64500278\n",
      "  -1.21365071 -0.28081172 -0.68815409 -0.41772555 -0.21837152  3.99081653\n",
      "  -0.25491182 -0.28978221 -0.31197886 -0.3100663  -0.23806606 -0.2409689\n",
      "  -0.24895608 -0.35695427 -0.39048749 -0.39783873 -0.39372463 -0.30514076\n",
      "  -0.55406327 -0.51439234]]\n"
     ]
    },
    {
     "name": "stderr",
     "output_type": "stream",
     "text": [
      "/home/ayush/.local/lib/python3.7/site-packages/sklearn/base.py:318: UserWarning: Trying to unpickle estimator StandardScaler from version 0.20.3 when using version 0.22.1. This might lead to breaking code or invalid results. Use at your own risk.\n",
      "  UserWarning)\n"
     ]
    },
    {
     "data": {
      "text/plain": [
       "0.9276537543658393"
      ]
     },
     "execution_count": 19,
     "metadata": {},
     "output_type": "execute_result"
    }
   ],
   "source": [
    "predict(12837, '2020-01-24', '15:51', '2020-02-05', '22:15', '1A', 'GNWL30/WL10')"
   ]
  },
  {
   "cell_type": "code",
   "execution_count": null,
   "metadata": {},
   "outputs": [],
   "source": []
  },
  {
   "cell_type": "code",
   "execution_count": null,
   "metadata": {},
   "outputs": [],
   "source": []
  }
 ],
 "metadata": {
  "kernelspec": {
   "display_name": "Python 3",
   "language": "python",
   "name": "python3"
  },
  "language_info": {
   "codemirror_mode": {
    "name": "ipython",
    "version": 3
   },
   "file_extension": ".py",
   "mimetype": "text/x-python",
   "name": "python",
   "nbconvert_exporter": "python",
   "pygments_lexer": "ipython3",
   "version": "3.7.4"
  }
 },
 "nbformat": 4,
 "nbformat_minor": 2
}
